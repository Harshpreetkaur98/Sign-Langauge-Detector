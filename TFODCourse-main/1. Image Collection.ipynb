{
 "cells": [
  {
   "cell_type": "markdown",
   "metadata": {},
   "source": [
    "# 1. Import Dependencies"
   ]
  },
  {
   "cell_type": "code",
   "execution_count": 1,
   "metadata": {},
   "outputs": [
    {
     "name": "stdout",
     "output_type": "stream",
     "text": [
      "Requirement already satisfied: opencv-python in c:\\projects\\sign-langauge-detector\\tfodcourse-main\\tfod\\lib\\site-packages (4.11.0.86)\n",
      "Requirement already satisfied: numpy>=1.21.2 in c:\\projects\\sign-langauge-detector\\tfodcourse-main\\tfod\\lib\\site-packages (from opencv-python) (2.2.2)\n"
     ]
    }
   ],
   "source": [
    "!pip install opencv-python"
   ]
  },
  {
   "cell_type": "code",
   "execution_count": 3,
   "metadata": {},
   "outputs": [],
   "source": [
    "# Import opencv\n",
    "import cv2 \n",
    "\n",
    "# Import uuid\n",
    "import uuid\n",
    "\n",
    "# Import Operating System\n",
    "import os\n",
    "\n",
    "# Import time\n",
    "import time"
   ]
  },
  {
   "cell_type": "markdown",
   "metadata": {},
   "source": [
    "# 2. Define Images to Collect"
   ]
  },
  {
   "cell_type": "code",
   "execution_count": 4,
   "metadata": {},
   "outputs": [],
   "source": [
    "# Multicall object detection model, since we are detecting different signs\n",
    "labels = ['thumbsup', 'thumbsdown', 'thankyou', 'livelong']\n",
    "#  How many images we are collecting, meaning 5 * 4 = 20-ish\n",
    "number_imgs = 5 "
   ]
  },
  {
   "cell_type": "markdown",
   "metadata": {},
   "source": [
    "# 3. Setup Folders "
   ]
  },
  {
   "cell_type": "code",
   "execution_count": 6,
   "metadata": {},
   "outputs": [],
   "source": [
    "IMAGES_PATH = os.path.join('Tensorflow', 'workspace', 'images', 'collectedimages')"
   ]
  },
  {
   "cell_type": "code",
   "execution_count": 8,
   "metadata": {},
   "outputs": [],
   "source": [
    "# Checking whether or not the path exists and the type of operating system in use (os.name)\n",
    "#  Also creates a new folder per class which is new for thumbsup, down, ty, livelong.\n",
    "if not os.path.exists(IMAGES_PATH):\n",
    "    if os.name == 'posix':\n",
    "        !mkdir -p {IMAGES_PATH}\n",
    "    if os.name == 'nt':\n",
    "         !mkdir {IMAGES_PATH}\n",
    "for label in labels:\n",
    "    path = os.path.join(IMAGES_PATH, label)\n",
    "    if not os.path.exists(path):\n",
    "        !mkdir {path}"
   ]
  },
  {
   "cell_type": "markdown",
   "metadata": {},
   "source": [
    "# 4. Capture Images"
   ]
  },
  {
   "cell_type": "code",
   "execution_count": 14,
   "metadata": {},
   "outputs": [
    {
     "name": "stdout",
     "output_type": "stream",
     "text": [
      "Collecting images for thumbsup\n",
      "Collecting image 0\n",
      "Collecting image 1\n",
      "Collecting image 2\n",
      "Collecting image 3\n",
      "Collecting image 4\n",
      "Collecting images for thumbsdown\n",
      "Collecting image 0\n",
      "Collecting image 1\n",
      "Collecting image 2\n",
      "Collecting image 3\n",
      "Collecting image 4\n",
      "Collecting images for thankyou\n",
      "Collecting image 0\n",
      "Collecting image 1\n",
      "Collecting image 2\n",
      "Collecting image 3\n",
      "Collecting image 4\n",
      "Collecting images for livelong\n",
      "Collecting image 0\n",
      "Collecting image 1\n",
      "Collecting image 2\n",
      "Collecting image 3\n",
      "Collecting image 4\n"
     ]
    }
   ],
   "source": [
    "for label in labels:\n",
    "    #  Connecting to our webcam or capture device\n",
    "    cap = cv2.VideoCapture(0)\n",
    "    print('Collecting images for {}'.format(label))\n",
    "    time.sleep(5)\n",
    "    for imgnum in range(number_imgs):\n",
    "        print('Collecting image {}'.format(imgnum))\n",
    "        ret, frame = cap.read()\n",
    "        # create a new image and paste it inside the particular path and then give it a name \"label.jpg\" and give it a unique number (uuid)\n",
    "        imgname = os.path.join(IMAGES_PATH,label,label+'.'+'{}.jpg'.format(str(uuid.uuid1())))\n",
    "        cv2.imwrite(imgname, frame)\n",
    "        cv2.imshow('frame', frame)\n",
    "        time.sleep(2)\n",
    "\n",
    "        # hitting \"q\" key to come out of the thing\n",
    "        if cv2.waitKey(1) & 0xFF == ord('q'):\n",
    "            break\n",
    "cap.release()\n",
    "cv2.destroyAllWindows()"
   ]
  },
  {
   "cell_type": "markdown",
   "metadata": {},
   "source": [
    "# 5. Image Labelling"
   ]
  },
  {
   "cell_type": "code",
   "execution_count": 15,
   "metadata": {},
   "outputs": [
    {
     "name": "stdout",
     "output_type": "stream",
     "text": [
      "Collecting pyqt5\n",
      "  Downloading PyQt5-5.15.11-cp38-abi3-win_amd64.whl.metadata (2.1 kB)\n",
      "Collecting lxml\n",
      "  Downloading lxml-5.3.0-cp310-cp310-win_amd64.whl.metadata (3.9 kB)\n",
      "Collecting PyQt5-sip<13,>=12.15 (from pyqt5)\n",
      "  Downloading PyQt5_sip-12.17.0-cp310-cp310-win_amd64.whl.metadata (492 bytes)\n",
      "Collecting PyQt5-Qt5<5.16.0,>=5.15.2 (from pyqt5)\n",
      "  Downloading PyQt5_Qt5-5.15.2-py3-none-win_amd64.whl.metadata (552 bytes)\n",
      "Downloading PyQt5-5.15.11-cp38-abi3-win_amd64.whl (6.9 MB)\n",
      "   ---------------------------------------- 0.0/6.9 MB ? eta -:--:--\n",
      "   ------ --------------------------------- 1.0/6.9 MB 8.4 MB/s eta 0:00:01\n",
      "   ---------------- ----------------------- 2.9/6.9 MB 8.8 MB/s eta 0:00:01\n",
      "   ----------------------------- ---------- 5.0/6.9 MB 8.9 MB/s eta 0:00:01\n",
      "   ------------------------------------ --- 6.3/6.9 MB 8.0 MB/s eta 0:00:01\n",
      "   ---------------------------------------- 6.9/6.9 MB 7.8 MB/s eta 0:00:00\n",
      "Downloading lxml-5.3.0-cp310-cp310-win_amd64.whl (3.8 MB)\n",
      "   ---------------------------------------- 0.0/3.8 MB ? eta -:--:--\n",
      "   ------------------- -------------------- 1.8/3.8 MB 9.1 MB/s eta 0:00:01\n",
      "   --------------------------------- ------ 3.1/3.8 MB 7.4 MB/s eta 0:00:01\n",
      "   ---------------------------------------- 3.8/3.8 MB 6.9 MB/s eta 0:00:00\n",
      "Downloading PyQt5_Qt5-5.15.2-py3-none-win_amd64.whl (50.1 MB)\n",
      "   ---------------------------------------- 0.0/50.1 MB ? eta -:--:--\n",
      "    --------------------------------------- 1.0/50.1 MB 8.4 MB/s eta 0:00:06\n",
      "   - -------------------------------------- 1.3/50.1 MB 3.2 MB/s eta 0:00:16\n",
      "   - -------------------------------------- 1.3/50.1 MB 3.2 MB/s eta 0:00:16\n",
      "   - -------------------------------------- 1.6/50.1 MB 1.8 MB/s eta 0:00:28\n",
      "   - -------------------------------------- 1.6/50.1 MB 1.8 MB/s eta 0:00:28\n",
      "   - -------------------------------------- 1.6/50.1 MB 1.8 MB/s eta 0:00:28\n",
      "   - -------------------------------------- 1.6/50.1 MB 1.8 MB/s eta 0:00:28\n",
      "   -- ------------------------------------- 2.6/50.1 MB 1.5 MB/s eta 0:00:33\n",
      "   -- ------------------------------------- 3.4/50.1 MB 1.7 MB/s eta 0:00:28\n",
      "   --- ------------------------------------ 4.7/50.1 MB 2.1 MB/s eta 0:00:22\n",
      "   ---- ----------------------------------- 6.0/50.1 MB 2.5 MB/s eta 0:00:18\n",
      "   ----- ---------------------------------- 6.3/50.1 MB 2.5 MB/s eta 0:00:18\n",
      "   ----- ---------------------------------- 6.8/50.1 MB 2.4 MB/s eta 0:00:19\n",
      "   ------ --------------------------------- 8.1/50.1 MB 2.7 MB/s eta 0:00:16\n",
      "   ------ --------------------------------- 8.4/50.1 MB 2.6 MB/s eta 0:00:17\n",
      "   ------ --------------------------------- 8.7/50.1 MB 2.5 MB/s eta 0:00:17\n",
      "   ------- -------------------------------- 9.7/50.1 MB 2.6 MB/s eta 0:00:16\n",
      "   -------- ------------------------------- 11.0/50.1 MB 2.8 MB/s eta 0:00:14\n",
      "   ---------- ----------------------------- 12.6/50.1 MB 3.1 MB/s eta 0:00:13\n",
      "   ---------- ----------------------------- 13.1/50.1 MB 3.0 MB/s eta 0:00:13\n",
      "   ----------- ---------------------------- 14.2/50.1 MB 3.1 MB/s eta 0:00:12\n",
      "   ------------ --------------------------- 15.5/50.1 MB 3.3 MB/s eta 0:00:11\n",
      "   ------------- -------------------------- 16.8/50.1 MB 3.4 MB/s eta 0:00:10\n",
      "   -------------- ------------------------- 18.6/50.1 MB 3.6 MB/s eta 0:00:09\n",
      "   --------------- ------------------------ 19.7/50.1 MB 3.7 MB/s eta 0:00:09\n",
      "   ---------------- ----------------------- 20.2/50.1 MB 3.6 MB/s eta 0:00:09\n",
      "   ----------------- ---------------------- 21.5/50.1 MB 3.7 MB/s eta 0:00:08\n",
      "   ----------------- ---------------------- 22.3/50.1 MB 3.7 MB/s eta 0:00:08\n",
      "   ------------------ --------------------- 23.3/50.1 MB 3.8 MB/s eta 0:00:08\n",
      "   ------------------- -------------------- 24.6/50.1 MB 3.8 MB/s eta 0:00:07\n",
      "   -------------------- ------------------- 25.4/50.1 MB 3.8 MB/s eta 0:00:07\n",
      "   -------------------- ------------------- 26.0/50.1 MB 3.9 MB/s eta 0:00:07\n",
      "   --------------------- ------------------ 27.5/50.1 MB 3.9 MB/s eta 0:00:06\n",
      "   ---------------------- ----------------- 27.8/50.1 MB 3.8 MB/s eta 0:00:06\n",
      "   ---------------------- ----------------- 28.0/50.1 MB 3.7 MB/s eta 0:00:06\n",
      "   ----------------------- ---------------- 29.4/50.1 MB 3.8 MB/s eta 0:00:06\n",
      "   ----------------------- ---------------- 29.6/50.1 MB 3.7 MB/s eta 0:00:06\n",
      "   ------------------------ --------------- 30.1/50.1 MB 3.7 MB/s eta 0:00:06\n",
      "   ------------------------ --------------- 30.4/50.1 MB 3.7 MB/s eta 0:00:06\n",
      "   ------------------------ --------------- 30.7/50.1 MB 3.6 MB/s eta 0:00:06\n",
      "   ------------------------ --------------- 30.7/50.1 MB 3.6 MB/s eta 0:00:06\n",
      "   ------------------------ --------------- 30.7/50.1 MB 3.6 MB/s eta 0:00:06\n",
      "   ------------------------ --------------- 30.9/50.1 MB 3.3 MB/s eta 0:00:06\n",
      "   -------------------------- ------------- 32.8/50.1 MB 3.5 MB/s eta 0:00:06\n",
      "   -------------------------- ------------- 33.3/50.1 MB 3.5 MB/s eta 0:00:05\n",
      "   --------------------------- ------------ 33.8/50.1 MB 3.4 MB/s eta 0:00:05\n",
      "   --------------------------- ------------ 34.9/50.1 MB 3.5 MB/s eta 0:00:05\n",
      "   ---------------------------- ----------- 35.7/50.1 MB 3.5 MB/s eta 0:00:05\n",
      "   ----------------------------- ---------- 37.2/50.1 MB 3.5 MB/s eta 0:00:04\n",
      "   ------------------------------ --------- 38.8/50.1 MB 3.6 MB/s eta 0:00:04\n",
      "   -------------------------------- ------- 40.4/50.1 MB 3.7 MB/s eta 0:00:03\n",
      "   --------------------------------- ------ 41.7/50.1 MB 3.7 MB/s eta 0:00:03\n",
      "   ---------------------------------- ----- 43.3/50.1 MB 3.8 MB/s eta 0:00:02\n",
      "   ----------------------------------- ---- 44.8/50.1 MB 3.9 MB/s eta 0:00:02\n",
      "   ------------------------------------- -- 46.4/50.1 MB 3.9 MB/s eta 0:00:01\n",
      "   ------------------------------------- -- 47.2/50.1 MB 3.9 MB/s eta 0:00:01\n",
      "   -------------------------------------- - 47.7/50.1 MB 3.9 MB/s eta 0:00:01\n",
      "   -------------------------------------- - 48.8/50.1 MB 3.9 MB/s eta 0:00:01\n",
      "   ---------------------------------------  49.3/50.1 MB 3.9 MB/s eta 0:00:01\n",
      "   ---------------------------------------  49.5/50.1 MB 3.9 MB/s eta 0:00:01\n",
      "   ---------------------------------------  50.1/50.1 MB 3.8 MB/s eta 0:00:01\n",
      "   ---------------------------------------- 50.1/50.1 MB 3.8 MB/s eta 0:00:00\n",
      "Downloading PyQt5_sip-12.17.0-cp310-cp310-win_amd64.whl (59 kB)\n",
      "Installing collected packages: PyQt5-Qt5, PyQt5-sip, lxml, pyqt5\n",
      "Successfully installed PyQt5-Qt5-5.15.2 PyQt5-sip-12.17.0 lxml-5.3.0 pyqt5-5.15.11\n"
     ]
    }
   ],
   "source": [
    "!pip install --upgrade pyqt5 lxml"
   ]
  },
  {
   "cell_type": "code",
   "execution_count": 19,
   "metadata": {},
   "outputs": [],
   "source": [
    "LABELIMG_PATH = os.path.join('Tensorflow', 'labelimg')"
   ]
  },
  {
   "cell_type": "code",
   "execution_count": 20,
   "metadata": {},
   "outputs": [
    {
     "name": "stderr",
     "output_type": "stream",
     "text": [
      "Cloning into 'Tensorflow\\labelimg'...\n"
     ]
    }
   ],
   "source": [
    "# Clonong the label image package\n",
    "if not os.path.exists(LABELIMG_PATH):\n",
    "    !mkdir {LABELIMG_PATH}\n",
    "    !git clone https://github.com/tzutalin/labelImg {LABELIMG_PATH}"
   ]
  },
  {
   "cell_type": "code",
   "execution_count": 21,
   "metadata": {},
   "outputs": [],
   "source": [
    "if os.name == 'posix':\n",
    "    !cd {LABELIMG_PATH} &&!make qt5py3\n",
    "if os.name =='nt':\n",
    "    #  The installation steps recommended for labelimg \n",
    "    !cd {LABELIMG_PATH} && pyrcc5 -o libs/resources.py resources.qrc"
   ]
  },
  {
   "cell_type": "code",
   "execution_count": 22,
   "metadata": {},
   "outputs": [
    {
     "name": "stdout",
     "output_type": "stream",
     "text": [
      "Image:C:\\Projects\\Sign-Langauge-Detector\\TFODCourse-main\\Tensorflow\\workspace\\images\\collectedimages\\livelong\\livelong.d98ab244-e286-11ef-82da-8cf8c55f65d5.jpg -> Annotation:C:/Projects/Sign-Langauge-Detector/TFODCourse-main/Tensorflow/workspace/images/collectedimages/livelong\\livelong.d98ab244-e286-11ef-82da-8cf8c55f65d5.xml\n",
      "Image:C:\\Projects\\Sign-Langauge-Detector\\TFODCourse-main\\Tensorflow\\workspace\\images\\collectedimages\\livelong\\livelong.d723a0b2-e286-11ef-ae67-8cf8c55f65d5.jpg -> Annotation:C:/Projects/Sign-Langauge-Detector/TFODCourse-main/Tensorflow/workspace/images/collectedimages/livelong\\livelong.d723a0b2-e286-11ef-ae67-8cf8c55f65d5.xml\n",
      "Image:C:\\Projects\\Sign-Langauge-Detector\\TFODCourse-main\\Tensorflow\\workspace\\images\\collectedimages\\livelong\\livelong.dabd5a9f-e286-11ef-8092-8cf8c55f65d5.jpg -> Annotation:C:/Projects/Sign-Langauge-Detector/TFODCourse-main/Tensorflow/workspace/images/collectedimages/livelong\\livelong.dabd5a9f-e286-11ef-8092-8cf8c55f65d5.xml\n",
      "Image:C:\\Projects\\Sign-Langauge-Detector\\TFODCourse-main\\Tensorflow\\workspace\\images\\collectedimages\\livelong\\livelong.dabd5a9f-e286-11ef-8092-8cf8c55f65d5.jpg -> Annotation:C:/Users/Harshpreet kaur/Desktop/livelong.dabd5a9f-e286-11ef-8092-8cf8c55f65d5.xml\n",
      "Image:C:\\Projects\\Sign-Langauge-Detector\\TFODCourse-main\\Tensorflow\\workspace\\images\\collectedimages\\livelong\\livelong.d5ef4787-e286-11ef-a070-8cf8c55f65d5.jpg -> Annotation:C:/Projects/Sign-Langauge-Detector/TFODCourse-main/Tensorflow/workspace/images/collectedimages/livelong\\livelong.d5ef4787-e286-11ef-a070-8cf8c55f65d5.xml\n",
      "Image:C:\\Projects\\Sign-Langauge-Detector\\TFODCourse-main\\Tensorflow\\workspace\\images\\collectedimages\\livelong\\livelong.d98ab244-e286-11ef-82da-8cf8c55f65d5.jpg -> Annotation:C:/Projects/Sign-Langauge-Detector/TFODCourse-main/Tensorflow/workspace/images/collectedimages/livelong\\livelong.d98ab244-e286-11ef-82da-8cf8c55f65d5.xml\n",
      "Image:C:\\Projects\\Sign-Langauge-Detector\\TFODCourse-main\\Tensorflow\\workspace\\images\\collectedimages\\livelong\\livelong.d723a0b2-e286-11ef-ae67-8cf8c55f65d5.jpg -> Annotation:C:/Projects/Sign-Langauge-Detector/TFODCourse-main/Tensorflow/workspace/images/collectedimages/livelong\\livelong.d723a0b2-e286-11ef-ae67-8cf8c55f65d5.xml\n",
      "Cancel creation.\n",
      "Image:C:\\Projects\\Sign-Langauge-Detector\\TFODCourse-main\\Tensorflow\\workspace\\images\\collectedimages\\livelong\\livelong.d8576484-e286-11ef-ad67-8cf8c55f65d5.jpg -> Annotation:C:/Projects/Sign-Langauge-Detector/TFODCourse-main/Tensorflow/workspace/images/collectedimages/livelong\\livelong.d8576484-e286-11ef-ad67-8cf8c55f65d5.xml\n",
      "Cancel creation.\n",
      "Cancel creation.\n",
      "Image:C:\\Projects\\Sign-Langauge-Detector\\TFODCourse-main\\Tensorflow\\workspace\\images\\collectedimages\\livelong\\livelong.dabd5a9f-e286-11ef-8092-8cf8c55f65d5.jpg -> Annotation:C:/Projects/Sign-Langauge-Detector/TFODCourse-main/Tensorflow/workspace/images/collectedimages/livelong\\livelong.dabd5a9f-e286-11ef-8092-8cf8c55f65d5.xml\n",
      "Image:C:\\Projects\\Sign-Langauge-Detector\\TFODCourse-main\\Tensorflow\\workspace\\images\\collectedimages\\thankyou\\thankyou.cc4f176c-e286-11ef-b8e3-8cf8c55f65d5.jpg -> Annotation:C:/Projects/Sign-Langauge-Detector/TFODCourse-main/Tensorflow/workspace/images/collectedimages/thankyou\\thankyou.cc4f176c-e286-11ef-b8e3-8cf8c55f65d5.xml\n",
      "Image:C:\\Projects\\Sign-Langauge-Detector\\TFODCourse-main\\Tensorflow\\workspace\\images\\collectedimages\\thankyou\\thankyou.cd81ab6f-e286-11ef-b000-8cf8c55f65d5.jpg -> Annotation:C:/Projects/Sign-Langauge-Detector/TFODCourse-main/Tensorflow/workspace/images/collectedimages/thankyou\\thankyou.cd81ab6f-e286-11ef-b000-8cf8c55f65d5.xml\n",
      "Image:C:\\Projects\\Sign-Langauge-Detector\\TFODCourse-main\\Tensorflow\\workspace\\images\\collectedimages\\thankyou\\thankyou.ceb4a1c1-e286-11ef-8c54-8cf8c55f65d5.jpg -> Annotation:C:/Projects/Sign-Langauge-Detector/TFODCourse-main/Tensorflow/workspace/images/collectedimages/thankyou\\thankyou.ceb4a1c1-e286-11ef-8c54-8cf8c55f65d5.xml\n",
      "Image:C:\\Projects\\Sign-Langauge-Detector\\TFODCourse-main\\Tensorflow\\workspace\\images\\collectedimages\\thankyou\\thankyou.cfe917c9-e286-11ef-ba23-8cf8c55f65d5.jpg -> Annotation:C:/Projects/Sign-Langauge-Detector/TFODCourse-main/Tensorflow/workspace/images/collectedimages/thankyou\\thankyou.cfe917c9-e286-11ef-ba23-8cf8c55f65d5.xml\n",
      "Image:C:\\Projects\\Sign-Langauge-Detector\\TFODCourse-main\\Tensorflow\\workspace\\images\\collectedimages\\thankyou\\thankyou.d11cfffb-e286-11ef-a5d4-8cf8c55f65d5.jpg -> Annotation:C:/Projects/Sign-Langauge-Detector/TFODCourse-main/Tensorflow/workspace/images/collectedimages/thankyou\\thankyou.d11cfffb-e286-11ef-a5d4-8cf8c55f65d5.xml\n",
      "Image:C:\\Projects\\Sign-Langauge-Detector\\TFODCourse-main\\Tensorflow\\workspace\\images\\collectedimages\\thumbsdown\\thumbsdown.c2ae0f1b-e286-11ef-a5e9-8cf8c55f65d5.jpg -> Annotation:C:/Projects/Sign-Langauge-Detector/TFODCourse-main/Tensorflow/workspace/images/collectedimages/thumbsdown\\thumbsdown.c2ae0f1b-e286-11ef-a5e9-8cf8c55f65d5.xml\n",
      "Image:C:\\Projects\\Sign-Langauge-Detector\\TFODCourse-main\\Tensorflow\\workspace\\images\\collectedimages\\thumbsdown\\thumbsdown.c3e2c53c-e286-11ef-bce2-8cf8c55f65d5.jpg -> Annotation:C:/Projects/Sign-Langauge-Detector/TFODCourse-main/Tensorflow/workspace/images/collectedimages/thumbsdown\\thumbsdown.c3e2c53c-e286-11ef-bce2-8cf8c55f65d5.xml\n",
      "Image:C:\\Projects\\Sign-Langauge-Detector\\TFODCourse-main\\Tensorflow\\workspace\\images\\collectedimages\\thumbsdown\\thumbsdown.c64e29c3-e286-11ef-9a06-8cf8c55f65d5.jpg -> Annotation:C:/Projects/Sign-Langauge-Detector/TFODCourse-main/Tensorflow/workspace/images/collectedimages/thumbsdown\\thumbsdown.c64e29c3-e286-11ef-9a06-8cf8c55f65d5.xml\n",
      "Image:C:\\Projects\\Sign-Langauge-Detector\\TFODCourse-main\\Tensorflow\\workspace\\images\\collectedimages\\thumbsdown\\thumbsdown.c782cd05-e286-11ef-9dec-8cf8c55f65d5.jpg -> Annotation:C:/Projects/Sign-Langauge-Detector/TFODCourse-main/Tensorflow/workspace/images/collectedimages/thumbsdown\\thumbsdown.c782cd05-e286-11ef-9dec-8cf8c55f65d5.xml\n",
      "Image:C:\\Projects\\Sign-Langauge-Detector\\TFODCourse-main\\Tensorflow\\workspace\\images\\collectedimages\\thumbsdown\\thumbsdown.c517421f-e286-11ef-9824-8cf8c55f65d5.jpg -> Annotation:C:/Projects/Sign-Langauge-Detector/TFODCourse-main/Tensorflow/workspace/images/collectedimages/thumbsdown\\thumbsdown.c517421f-e286-11ef-9824-8cf8c55f65d5.xml\n",
      "Cancel creation.\n",
      "Image:C:\\Projects\\Sign-Langauge-Detector\\TFODCourse-main\\Tensorflow\\workspace\\images\\collectedimages\\thumbsup\\thumbsup.b8faf04d-e286-11ef-b931-8cf8c55f65d5.jpg -> Annotation:C:/Projects/Sign-Langauge-Detector/TFODCourse-main/Tensorflow/workspace/images/collectedimages/thumbsup\\thumbsup.b8faf04d-e286-11ef-b931-8cf8c55f65d5.xml\n",
      "Image:C:\\Projects\\Sign-Langauge-Detector\\TFODCourse-main\\Tensorflow\\workspace\\images\\collectedimages\\thumbsup\\thumbsup.ba40d14a-e286-11ef-a8e5-8cf8c55f65d5.jpg -> Annotation:C:/Projects/Sign-Langauge-Detector/TFODCourse-main/Tensorflow/workspace/images/collectedimages/thumbsup\\thumbsup.ba40d14a-e286-11ef-a8e5-8cf8c55f65d5.xml\n",
      "Image:C:\\Projects\\Sign-Langauge-Detector\\TFODCourse-main\\Tensorflow\\workspace\\images\\collectedimages\\thumbsup\\thumbsup.bb73c17a-e286-11ef-9f90-8cf8c55f65d5.jpg -> Annotation:C:/Projects/Sign-Langauge-Detector/TFODCourse-main/Tensorflow/workspace/images/collectedimages/thumbsup\\thumbsup.bb73c17a-e286-11ef-9f90-8cf8c55f65d5.xml\n",
      "Image:C:\\Projects\\Sign-Langauge-Detector\\TFODCourse-main\\Tensorflow\\workspace\\images\\collectedimages\\thumbsup\\thumbsup.bca771db-e286-11ef-ae14-8cf8c55f65d5.jpg -> Annotation:C:/Projects/Sign-Langauge-Detector/TFODCourse-main/Tensorflow/workspace/images/collectedimages/thumbsup\\thumbsup.bca771db-e286-11ef-ae14-8cf8c55f65d5.xml\n",
      "Image:C:\\Projects\\Sign-Langauge-Detector\\TFODCourse-main\\Tensorflow\\workspace\\images\\collectedimages\\thumbsup\\thumbsup.bddac4f4-e286-11ef-9736-8cf8c55f65d5.jpg -> Annotation:C:/Projects/Sign-Langauge-Detector/TFODCourse-main/Tensorflow/workspace/images/collectedimages/thumbsup\\thumbsup.bddac4f4-e286-11ef-9736-8cf8c55f65d5.xml\n"
     ]
    },
    {
     "name": "stderr",
     "output_type": "stream",
     "text": [
      "QAction::event: Ambiguous shortcut overload: Ctrl+Shift+S\n",
      "QAction::event: Ambiguous shortcut overload: Ctrl+Shift+S\n",
      "QAction::event: Ambiguous shortcut overload: Ctrl+Shift+S\n"
     ]
    }
   ],
   "source": [
    "#  Should open up the label image package\n",
    "!cd {LABELIMG_PATH} && python labelImg.py"
   ]
  },
  {
   "cell_type": "markdown",
   "metadata": {},
   "source": [
    "# 6. Move them into a Training and Testing Partition"
   ]
  },
  {
   "cell_type": "markdown",
   "metadata": {},
   "source": [
    "# OPTIONAL - 7. Compress them for Colab Training"
   ]
  },
  {
   "cell_type": "code",
   "execution_count": 20,
   "metadata": {},
   "outputs": [],
   "source": [
    "TRAIN_PATH = os.path.join('Tensorflow', 'workspace', 'images', 'train')\n",
    "TEST_PATH = os.path.join('Tensorflow', 'workspace', 'images', 'test')\n",
    "ARCHIVE_PATH = os.path.join('Tensorflow', 'workspace', 'images', 'archive.tar.gz')"
   ]
  },
  {
   "cell_type": "code",
   "execution_count": 21,
   "metadata": {},
   "outputs": [],
   "source": [
    "!tar -czf {ARCHIVE_PATH} {TRAIN_PATH} {TEST_PATH}"
   ]
  }
 ],
 "metadata": {
  "kernelspec": {
   "display_name": "tfod",
   "language": "python",
   "name": "tfod"
  },
  "language_info": {
   "codemirror_mode": {
    "name": "ipython",
    "version": 3
   },
   "file_extension": ".py",
   "mimetype": "text/x-python",
   "name": "python",
   "nbconvert_exporter": "python",
   "pygments_lexer": "ipython3",
   "version": "3.10.4"
  }
 },
 "nbformat": 4,
 "nbformat_minor": 4
}
